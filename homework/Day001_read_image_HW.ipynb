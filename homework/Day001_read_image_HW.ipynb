{
 "cells": [
  {
   "cell_type": "markdown",
   "metadata": {},
   "source": [
    "# 作業\n",
    "\n",
    "思考一下我們前面有提到圖片是矩陣，但維度可能會不一樣\n",
    "例如灰階圖只有兩個維度，RGB 彩圖則有 3 個維度\n",
    "\n",
    "假如今天我們把 RGB 3 個維度拆開來看會有甚麼不同的效果呢？"
   ]
  },
  {
   "cell_type": "code",
   "execution_count": 3,
   "metadata": {
    "scrolled": true
   },
   "outputs": [
    {
     "data": {
      "text/plain": [
       "-1"
      ]
     },
     "execution_count": 3,
     "metadata": {},
     "output_type": "execute_result"
    }
   ],
   "source": [
    "import cv2\n",
    "import numpy as np\n",
    "img_path = 'data/lena.png'\n",
    "\n",
    "# 以彩色圖片的方式載入\n",
    "img = cv2.imread(img_path, cv2.IMREAD_COLOR)\n",
    "\n",
    "blue_img = img.copy()\n",
    "blue_img[:, :, 1] = 0\n",
    "blue_img[:, :, 2] = 0\n",
    "cv2.imshow('B', blue_img)\n",
    "\n",
    "red_img = img.copy()\n",
    "red_img[:, :, 0] = 0\n",
    "red_img[:, :, 1] = 0\n",
    "cv2.imshow('R', red_img)\n",
    "\n",
    "green_img = img.copy()\n",
    "green_img[:, :, 0] = 0\n",
    "green_img[:, :, 2] = 0\n",
    "cv2.imshow('G', green_img)\n",
    "\n",
    "'''\n",
    "channel_initials = list('BGR')\n",
    "for channel_index in range(3):\n",
    "    channel = np.zeros(shape=img.shape, dtype=np.uint8)\n",
    "    channel[:,:,channel_index] = image[:,:,channel_index]\n",
    "    cv2.imshow(f'{channel_initials[channel_index]}-RGB', channel)\n",
    "'''\n",
    "cv2.waitKey(0)"
   ]
  }
 ],
 "metadata": {
  "kernelspec": {
   "display_name": "Python 3",
   "language": "python",
   "name": "python3"
  },
  "language_info": {
   "codemirror_mode": {
    "name": "ipython",
    "version": 3
   },
   "file_extension": ".py",
   "mimetype": "text/x-python",
   "name": "python",
   "nbconvert_exporter": "python",
   "pygments_lexer": "ipython3",
   "version": "3.8.5"
  }
 },
 "nbformat": 4,
 "nbformat_minor": 2
}
